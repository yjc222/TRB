{
 "cells": [
  {
   "cell_type": "code",
   "execution_count": null,
   "metadata": {},
   "outputs": [],
   "source": [
    "import copy\n",
    "import pandas as pd\n",
    "import numpy as np\n",
    "import matplotlib.pyplot as plt"
   ]
  },
  {
   "cell_type": "code",
   "execution_count": null,
   "metadata": {},
   "outputs": [],
   "source": [
    "DATA=pd.read_csv('설문조사결과.csv', encoding='cp949')\n",
    "DATA1=copy.copy(DATA)\n",
    "DATA1.fillna(0, inplace=True)\n"
   ]
  },
  {
   "cell_type": "code",
   "execution_count": null,
   "metadata": {},
   "outputs": [],
   "source": [
    "###RP1~12까지 처리\n",
    "DATA2 = pd.DataFrame([])\n",
    "DATA2=DATA1.iloc[:,[0,1,2,3,4]]\n",
    "DATA2=DATA2.rename(columns={'SQ1':'ESS_known','SQ2':'District','SQ3':'Age','SQ4':'License','idx':'id'})\n",
    "DATA2['Block']=DATA1['ufSQ0']\n",
    "\n",
    "DATA2['ESS_used']=DATA1['RP1']\n",
    "DATA2['ESS_interest']=DATA1['RP7']\n",
    "DATA2['Frequency_month']=DATA1['RP6']\n",
    "DATA2['Trip_Purpose']=0 ; DATA2['Trip_Purpose_Etc']=0;DATA2['ESS_use_int']=0;DATA2['tt_walk']=0;DATA2['ESS_replace_mode']=0;DATA2['ESS_replace_mode_etc']=0\n"
   ]
  },
  {
   "cell_type": "code",
   "execution_count": null,
   "metadata": {},
   "outputs": [],
   "source": [
    "##사용자 비사용자 합치기\n",
    "\n",
    "DATA2.loc[(DATA1['RP2']!=0), 'Trip_Purpose'] = DATA1['RP2']\n",
    "DATA2.loc[(DATA1['RP2']==0), 'Trip_Purpose'] = DATA1['RP8']\n",
    "\n",
    "DATA2.loc[(DATA1['RP3']!=0), 'ESS_use_int'] = DATA1['RP3']\n",
    "DATA2.loc[(DATA1['RP3']==0), 'ESS_use_int'] = DATA1['RP9']\n",
    "\n",
    "DATA2.loc[(DATA1['RP4']!=0), 'tt_walk'] = DATA1['RP4']\n",
    "DATA2.loc[(DATA1['RP4']==0), 'tt_walk'] = DATA1['RP10']\n",
    "\n",
    "DATA2.loc[(DATA1['RP5']!=0), 'ESS_replace_mode'] = DATA1['RP5']\n",
    "DATA2.loc[(DATA1['RP5']==0), 'ESS_replace_mode'] = DATA1['RP11']\n",
    "\n",
    "DATA2.loc[(DATA1['RP5_8_etc']!=0), 'ESS_replace_mode_etc'] = DATA1['RP5_8_etc']\n",
    "DATA2.loc[(DATA1['RP5_8_etc']==0), 'ESS_replace_mode_etc'] = DATA1['RP11_8_etc']\n",
    "\n",
    "DATA2.loc[(DATA1['RP2_5_etc']!=0), 'Trip_Purpose_Etc'] = DATA1['RP2_5_etc']\n",
    "DATA2.loc[(DATA1['RP2_5_etc']==0), 'Trip_Purpose_Etc'] = DATA1['RP8_6_etc']\n",
    "\n",
    "DATA2.loc[(DATA2['ESS_interest']==0), 'ESS_interest'] = 6\n"
   ]
  },
  {
   "cell_type": "code",
   "execution_count": null,
   "metadata": {},
   "outputs": [],
   "source": [
    "##RP12처리\n",
    "DATA2['Exp_ESS']=DATA1['RP12_1']\n",
    "DATA2['Exp_BSS']=DATA1['RP12_2']\n",
    "DATA2['Exp_VSS']=DATA1['RP12_3']\n",
    "\n",
    "##AQ 처리\n",
    "DATA2['Int_commute']=DATA1['AQ1_1']\n",
    "DATA2['Int_shop']=DATA1['AQ1_2']\n",
    "DATA2['Int_lejsure']=DATA1['AQ1_3']\n",
    "DATA2['Int_fun']=DATA1['AQ1_4']\n",
    "DATA2['Int_FMLM']=DATA1['AQ2_1']\n",
    "DATA2['Int_OD']=DATA1['AQ2_2']\n",
    "DATA2['Int_transfer']=DATA1['AQ2_3']\n",
    "\n",
    "##DQ처리\n",
    "DATA2['Gender']=DATA1['DQ1']\n",
    "DATA2['Job']=DATA1['DQ4']\n",
    "DATA2['Job_etc']=DATA1['DQ4_13_etc']\n",
    "DATA2['HH']=DATA1['DQ2']\n",
    "DATA2['Income']=DATA1['DQ3']\n",
    "DATA2['HHincome']=0 ;DATA2['median_income']=0\n"
   ]
  },
  {
   "cell_type": "code",
   "execution_count": null,
   "metadata": {},
   "outputs": [],
   "source": [
    "#중위소득처리\n",
    "DATA2.loc[(DATA2['Income']==1), 'HHincome'] = 100\n",
    "DATA2.loc[(DATA2['Income']==2), 'HHincome'] = 150\n",
    "DATA2.loc[(DATA2['Income']==3), 'HHincome'] = 350\n",
    "DATA2.loc[(DATA2['Income']==4), 'HHincome'] = 450\n",
    "DATA2.loc[(DATA2['Income']==5), 'HHincome'] = 550\n",
    "DATA2.loc[(DATA2['Income']==6), 'HHincome'] = 650\n",
    "DATA2.loc[(DATA2['Income']==7), 'HHincome'] = 700\n",
    "\n",
    "DATA2.loc[(DATA2['HH']==1)&(DATA2['HHincome']<194), 'median_income'] = 0\n",
    "DATA2.loc[(DATA2['HH']==1)&(DATA2['HHincome']>=194), 'median_income'] = 1\n",
    "\n",
    "DATA2.loc[(DATA2['HH']==2)&(DATA2['HHincome']<326), 'median_income'] = 0\n",
    "DATA2.loc[(DATA2['HH']==2)&(DATA2['HHincome']>=326), 'median_income'] = 1\n",
    "\n",
    "DATA2.loc[(DATA2['HH']==3)&(DATA2['HHincome']<419), 'median_income'] = 0\n",
    "DATA2.loc[(DATA2['HH']==3)&(DATA2['HHincome']>=419), 'median_income'] = 1\n",
    "\n",
    "DATA2.loc[(DATA2['HH']==4)&(DATA2['HHincome']<512), 'median_income'] = 0\n",
    "DATA2.loc[(DATA2['HH']==4)&(DATA2['HHincome']>=512), 'median_income'] = 1\n",
    "\n",
    "DATA2.loc[(DATA2['HH']==5)&(DATA2['HHincome']<602), 'median_income'] = 0\n",
    "DATA2.loc[(DATA2['HH']==5)&(DATA2['HHincome']>=602), 'median_income'] = 1\n",
    "\n",
    "DATA2.loc[(DATA2['HH']==6)&(DATA2['HHincome']<690), 'median_income'] = 0\n",
    "DATA2.loc[(DATA2['HH']==6)&(DATA2['HHincome']>=690), 'median_income'] = 1"
   ]
  },
  {
   "cell_type": "code",
   "execution_count": null,
   "metadata": {},
   "outputs": [],
   "source": [
    "DATA3 = pd.DataFrame([])\n",
    "for k in range(len(DATA2)):\n",
    "    for i in range(6):\n",
    "        DATA3=DATA3.append(DATA2.iloc[k])"
   ]
  },
  {
   "cell_type": "code",
   "execution_count": null,
   "metadata": {},
   "outputs": [],
   "source": [
    "SP=DATA1.loc[:,'SP1':'SP6']\n",
    "SP1=[]\n",
    "\n",
    "for k in range(len(DATA2)):\n",
    "    print(SP.iloc[k])\n",
    "    for i in range(6):\n",
    "        print(SP.iloc[k][i])\n",
    "        SPappend=SP.iloc[k][i]\n",
    "        SP1.append(SPappend)\n",
    "\n",
    "DATA3['SP']=SP1\n",
    "DATA3.reset_index(drop=True,inplace=True)"
   ]
  },
  {
   "cell_type": "code",
   "execution_count": null,
   "metadata": {},
   "outputs": [],
   "source": [
    "DATA4 = pd.DataFrame([])\n",
    "choice_set=3\n",
    "for k in range(len(DATA3)):\n",
    "    for i in range(choice_set):\n",
    "        DATA4=DATA4.append(DATA3.iloc[k])\n",
    "\n",
    "DATA4.reset_index(drop=True,inplace=True)"
   ]
  },
  {
   "cell_type": "code",
   "execution_count": null,
   "metadata": {},
   "outputs": [],
   "source": [
    "Altij=[]\n",
    "for k in range(int(len(DATA4)/choice_set)):\n",
    "    for i in range(choice_set):\n",
    "        Altij.append(i+1)\n",
    "\n",
    "Cset=[]\n",
    "for k in range(int(len(DATA4)/choice_set/6)):\n",
    "    for i in range(6):\n",
    "        for j in range(choice_set):\n",
    "                Cset.append(i+1)\n",
    "    \n",
    "DATA4['Altij']=Altij   \n",
    "DATA4['Cset']=Cset\n",
    "Block=pd.read_csv('블록설정.csv', encoding='cp949')\n"
   ]
  },
  {
   "cell_type": "code",
   "execution_count": null,
   "metadata": {},
   "outputs": [],
   "source": [
    "\n",
    "\n",
    "DATA4['ROAD']=0;DATA4['Inform']=0;DATA4['Clean']=0;DATA4['Parking']=0;DATA4['Fee']=0\n",
    "\n",
    "#for k in range(len(DATA4)):\n",
    "for k in range(len(DATA4)): \n",
    "    a=DATA4.loc[:,'Block'][k]\n",
    "    b=DATA4.loc[:,'Cset'][k]\n",
    "    c=DATA4.loc[:,'Altij'][k]\n",
    "    d=Block.loc[(Block['Block'] == a) & (Block['Cset'] == b)& (Block['Altij'] == c)]\n",
    "\n",
    "    DATA4.loc[:,'ROAD'][k]=d['road']\n",
    "    DATA4.loc[:,'Inform'][k]=d['inform']\n",
    "    DATA4.loc[:,'Clean'][k]=d['clean']\n",
    "    DATA4.loc[:,'Parking'][k]=d['parking']\n",
    "    DATA4.loc[:,'Fee'][k]=d['fee']\n",
    "\n",
    "DATA['Choice']=0    \n",
    "DATA4.loc[(DATA4['SP']!=DATA4['Altij']), 'Choice'] = 0\n",
    "DATA4.loc[(DATA4['SP']==DATA4['Altij']), 'Choice'] = 1\n",
    "\n",
    "DATA4.fillna(0, inplace=True)\n",
    "\n",
    "\n",
    "#    NET['Xa']=np.where((NET['Init']==r) & (NET['Term']==s),NET['Xa']+qrs,NET['Xa'])\n",
    "# for k in range(len(DATA4)):\n",
    "#     if DATA4['Block'][k]==1 and DATA4['SQ'][k]==1 and DATA4['Altij']==1:\n",
    "#         DATA4['Road'][k]=Block1.iloc[0,1]\n"
   ]
  },
  {
   "cell_type": "code",
   "execution_count": null,
   "metadata": {},
   "outputs": [],
   "source": [
    "DATA5=copy.copy(DATA4)\n",
    "\n",
    "DATA5.loc[(DATA5['Age']>=20) & (DATA5['Age']<30), 'Age'] = 0\n",
    "DATA5.loc[(DATA5['Age']>=30) & (DATA5['Age']<40), 'Age'] = 1\n",
    "DATA5.loc[(DATA5['Age']>=40) & (DATA5['Age']<50), 'Age'] = 2\n",
    "DATA5.loc[(DATA5['Age']>=50) & (DATA5['Age']<60), 'Age'] = 3\n",
    "DATA5.loc[(DATA5['Age']>=60) & (DATA5['Age']<70), 'Age'] = 4\n",
    "DATA5.loc[(DATA5['Age']>=70)] = 5\n",
    "\n",
    "DATA5['District']=DATA5['District']-1\n",
    "DATA5['ESS_used']=DATA5['ESS_used']-1\n",
    "\n",
    "DATA5['ESS_interest']=DATA5['ESS_interest']-1  #RP7\n",
    "\n",
    "DATA5['Frequency_month']=DATA5['Frequency_month']-1\n",
    "DATA5.loc[(DATA5['Frequency_month']==-1), 'Frequency_month'] = 6\n",
    "\n",
    "DATA5['Trip_Purpose']=DATA5['Trip_Purpose']-1\n",
    "DATA5.loc[(DATA5['Trip_Purpose']==-1), 'Trip_Purpose'] = 6\n",
    "\n",
    "DATA5['tt_walk']=DATA5['tt_walk']-1\n",
    "DATA5.loc[(DATA5['tt_walk']==-1), 'tt_walk'] = 4\n",
    "\n",
    "DATA5['ESS_use_int']=DATA5['ESS_use_int']-1 #RP3\n",
    "DATA5.loc[(DATA5['ESS_use_int']==-1), 'ESS_use_int'] = 5\n",
    "\n",
    "DATA5['ESS_replace_mode']=DATA5['ESS_replace_mode']-1\n",
    "DATA5.loc[(DATA5['ESS_replace_mode']==-1), 'ESS_replace_mode'] = 7\n",
    "\n",
    "DATA5['Income']=DATA5['Income']-1\n",
    "DATA5.iloc[:,15:27]=DATA5.iloc[:,15:27]-1\n",
    "\n"
   ]
  },
  {
   "cell_type": "code",
   "execution_count": null,
   "metadata": {},
   "outputs": [],
   "source": [
    "#job\n",
    "DATA5['Jobstu']=0;DATA5['Jobinnocc']=0\n",
    "\n",
    "DATA5.loc[(DATA5['Job']==10), 'Jobstu']=1 #학생\n",
    "DATA5.loc[(DATA5['Job']==11), 'Jobinnocc']=1 #무직\n",
    "DATA5.loc[(DATA5['Job']==\"은퇴\"), 'Jobinnocc']=1#기타\n",
    "DATA5.loc[(DATA5['Job']==\"전업주부\"), 'Jobinnocc']=1#기타\n",
    "\n",
    "DATA5['Cset2']=3\n",
    "DATA5['Fee2']=1\n",
    "DATA5.loc[(DATA5['Fee']==30), 'Fee2']=1.3 #학생\n",
    "DATA5.loc[(DATA5['Fee']==60), 'Fee2']=1.6 #학생\n",
    "DATA5.loc[(DATA5['Fee']==100), 'Fee2']=2 #학생\n",
    "\n",
    "DATA5['Age30']=0;DATA5['Age40']=0;DATA5['Age50']=0;DATA5['Age60']=0\n",
    "DATA5.loc[(DATA5['Age']==1), 'Age30']=1 \n",
    "DATA5.loc[(DATA5['Age']==2), 'Age40']=1 \n",
    "DATA5.loc[(DATA5['Age']==3), 'Age50']=1 \n",
    "DATA5.loc[(DATA5['Age']==4), 'Age60']=1 \n",
    "\n",
    "DATA5['Inc2030']=0;DATA5['Inc3040']=0;DATA5['Inc4050']=0;DATA5['Inc5060']=0;DATA5['Inc6070']=0;DATA5['Incov70']=0\n",
    "DATA5.loc[(DATA5['Income']==1), 'Inc2030']=1 \n",
    "DATA5.loc[(DATA5['Income']==2), 'Inc3040']=1\n",
    "DATA5.loc[(DATA5['Income']==3), 'Inc4050']=1 \n",
    "DATA5.loc[(DATA5['Income']==4), 'Inc5060']=1 \n",
    "DATA5.loc[(DATA5['Income']==5), 'Inc6070']=1 \n",
    "DATA5.loc[(DATA5['Income']==6), 'Incov70']=1 \n",
    "\n",
    "\n",
    "\n",
    "\n"
   ]
  },
  {
   "cell_type": "code",
   "execution_count": null,
   "metadata": {},
   "outputs": [],
   "source": [
    "DATA5.loc[(DATA5['Altij']==3), 'Age30']=0\n",
    "DATA5.loc[(DATA5['Altij']==3), 'Age40']=0\n",
    "DATA5.loc[(DATA5['Altij']==3), 'Age50']=0\n",
    "DATA5.loc[(DATA5['Altij']==3), 'Age60']=0\n",
    "DATA5.loc[(DATA5['Altij']==3), 'Inc2030']=0\n",
    "DATA5.loc[(DATA5['Altij']==3), 'Inc3040']=0\n",
    "DATA5.loc[(DATA5['Altij']==3), 'Inc4050']=0\n",
    "DATA5.loc[(DATA5['Altij']==3), 'Inc5060']=0\n",
    "DATA5.loc[(DATA5['Altij']==3), 'Inc6070']=0\n",
    "DATA5.loc[(DATA5['Altij']==3), 'Incov70']=0\n",
    "\n",
    "DATA5.loc[(DATA5['Altij']==3), 'Age']=0\n",
    "DATA5.loc[(DATA5['Altij']==3), 'Income']=0\n",
    "DATA5.loc[(DATA5['Altij']==3), 'Gender']=0\n",
    "DATA5.loc[(DATA5['Altij']==3), 'ESS_interest']=0\n",
    "DATA5.loc[(DATA5['Altij']==3), 'Frequency_month']=0\n",
    "DATA5.loc[(DATA5['Altij']==3), 'ESS_replace_mode']=0\n",
    "DATA5.loc[(DATA5['Altij']==3), 'Exp_ESS']=0\n",
    "DATA5.loc[(DATA5['Altij']==3), 'Exp_BSS']=0\n",
    "DATA5.loc[(DATA5['Altij']==3), 'Exp_VSS']=0\n",
    "DATA5.loc[(DATA5['Altij']==3), 'ESS_interest']=0\n",
    "\n",
    "DATA5.loc[(DATA5['Altij']==3), 'Int_commute']=0\n",
    "DATA5.loc[(DATA5['Altij']==3), 'Int_shop']=0\n",
    "DATA5.loc[(DATA5['Altij']==3), 'Int_lejsure']=0\n",
    "DATA5.loc[(DATA5['Altij']==3), 'Int_fun']=0\n",
    "DATA5.loc[(DATA5['Altij']==3), 'Int_FMLM']=0\n",
    "DATA5.loc[(DATA5['Altij']==3), 'Int_OD']=0\n",
    "DATA5.loc[(DATA5['Altij']==3), 'Int_transfer']=0\n",
    "DATA5.loc[(DATA5['Altij']==3), 'Job']=0\n",
    "DATA5.loc[(DATA5['Altij']==3), 'Income']=0\n",
    "\n",
    "DATA5.loc[(DATA5['Altij']==3), 'Jobstu']=0\n",
    "DATA5.loc[(DATA5['Altij']==3), 'Jobinnocc']=0\n",
    "DATA5.loc[(DATA5['Altij']==3), 'Fee2']=0\n",
    "DATA5.loc[(DATA5['Altij']==3), 'Fee']=0\n",
    "DATA5.loc[(DATA5['Altij']==3), 'ESS_used']=0\n",
    "DATA5.loc[(DATA5['Altij']==3), 'Trip_Purpose']=0\n",
    "DATA5.loc[(DATA5['Altij']==3), 'ESS_use_int']=0\n",
    "\n",
    "\n",
    "DATA5['Con']=0\n",
    "DATA5.loc[(DATA5['Altij']==3), 'Con']=1\n",
    "\n",
    "\n",
    "\n",
    "\n",
    "\n",
    "\n",
    "\n",
    "\n"
   ]
  },
  {
   "cell_type": "code",
   "execution_count": null,
   "metadata": {},
   "outputs": [],
   "source": [
    "DATA5.to_excel('C3A2.xlsx',index=True)"
   ]
  },
  {
   "cell_type": "code",
   "execution_count": null,
   "metadata": {},
   "outputs": [],
   "source": [
    "DATA6=copy.copy(DATA5)\n",
    "DATA6.loc[(DATA5['Fee']==0)&(DATA5['Altij']!=3), 'Fee'] = 1\n",
    "DATA6.loc[(DATA5['Fee']==30)&(DATA5['Altij']!=3), 'Fee'] = 2\n",
    "DATA6.loc[(DATA5['Fee']==60)&(DATA5['Altij']!=3), 'Fee'] = 3\n",
    "DATA6.loc[(DATA5['Fee']==100)&(DATA5['Altij']!=3), 'Fee'] = 4\n",
    "DATA6.fillna(0, inplace=True)   \n",
    "\n",
    "DATA6['Cost*gen']=DATA6['Fee']*DATA6['Gender']\n",
    "DATA6['Cost*age']=DATA6['Fee']*DATA6['Age']\n",
    "DATA6['Cost*job']=DATA6['Fee']*DATA6['Job']\n",
    "DATA6['Cost*income']=DATA6['Fee']*DATA6['median_income']"
   ]
  },
  {
   "cell_type": "code",
   "execution_count": null,
   "metadata": {},
   "outputs": [],
   "source": [
    "DATA6.to_excel('데이터가공_c3_att(0,1)_feedum.xlsx')"
   ]
  },
  {
   "cell_type": "code",
   "execution_count": null,
   "metadata": {},
   "outputs": [],
   "source": [
    "DATA7=copy.copy(DATA5)\n",
    "\n",
    "DATA7.loc[(DATA5['Cset']!=3)&(DATA5['ROAD']==0)&(DATA5['Altij']!=3), 'ROAD'] = 1\n",
    "DATA7.loc[(DATA5['Cset']!=3)&(DATA5['ROAD']==1)&(DATA5['Altij']!=3), 'ROAD'] = 2\n",
    "\n",
    "DATA7.loc[(DATA5['Cset']!=3)&(DATA5['Inform']==0)&(DATA5['Altij']!=3), 'Inform'] = 1\n",
    "DATA7.loc[(DATA5['Cset']!=3)&(DATA5['Inform']==1)&(DATA5['Altij']!=3), 'Inform'] = 2\n",
    "\n",
    "DATA7.loc[(DATA5['Cset']!=3)&(DATA5['Clean']==0)&(DATA5['Altij']!=3), 'Clean'] = 1\n",
    "DATA7.loc[(DATA5['Cset']!=3)&(DATA5['Clean']==1)&(DATA5['Altij']!=3), 'Clean'] = 2\n",
    "\n",
    "DATA7.loc[(DATA5['Cset']!=3)&(DATA5['Parking']==0)&(DATA5['Altij']!=3), 'Parking'] = 1\n",
    "DATA7.loc[(DATA5['Cset']!=3)&(DATA5['Parking']==1)&(DATA5['Altij']!=3), 'Parking'] = 2\n"
   ]
  },
  {
   "cell_type": "code",
   "execution_count": null,
   "metadata": {},
   "outputs": [],
   "source": [
    "DATA7.to_excel('데이터가공_c3_att(0,1,2)_feenum.xlsc')"
   ]
  },
  {
   "cell_type": "code",
   "execution_count": null,
   "metadata": {},
   "outputs": [],
   "source": [
    "DATA8=copy.copy(DATA5)\n",
    "\n",
    "DATA8.loc[(DATA5['Fee']==0)&(DATA5['Altij']!=3), 'Fee'] = 1\n",
    "DATA8.loc[(DATA5['Fee']==30)&(DATA5['Altij']!=3), 'Fee'] = 2\n",
    "DATA8.loc[(DATA5['Fee']==60)&(DATA5['Altij']!=3), 'Fee'] = 3\n",
    "DATA8.loc[(DATA5['Fee']==100)&(DATA5['Altij']!=3), 'Fee'] = 4\n",
    "DATA8.fillna(0, inplace=True)    \n",
    "\n",
    "DATA8['Cost*gen']=DATA8['Fee']*DATA8['Gender']\n",
    "DATA8['Cost*age']=DATA8['Fee']*DATA8['Age']\n",
    "DATA8['Cost*job']=DATA8['Fee']*DATA8['Job']\n",
    "DATA8['Cost*income']=DATA8['Fee']*DATA8['median_income']"
   ]
  },
  {
   "cell_type": "code",
   "execution_count": null,
   "metadata": {},
   "outputs": [],
   "source": [
    "DATA7.to_excel('데이터가공_c3_att(0,1,2)_feedum.xl')"
   ]
  }
 ],
 "metadata": {
  "kernelspec": {
   "display_name": "Python 3.9.7 64-bit",
   "language": "python",
   "name": "python3"
  },
  "language_info": {
   "codemirror_mode": {
    "name": "ipython",
    "version": 3
   },
   "file_extension": ".py",
   "mimetype": "text/x-python",
   "name": "python",
   "nbconvert_exporter": "python",
   "pygments_lexer": "ipython3",
   "version": "3.9.7"
  },
  "orig_nbformat": 4,
  "vscode": {
   "interpreter": {
    "hash": "c347c8f9a7ef94e4c9e03b4513be7835ed18f45b99a2a817fb579f408b867b16"
   }
  }
 },
 "nbformat": 4,
 "nbformat_minor": 2
}
